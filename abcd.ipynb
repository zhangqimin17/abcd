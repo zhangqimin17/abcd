{
 "cells": [
  {
   "cell_type": "code",
   "execution_count": 2,
   "metadata": {},
   "outputs": [],
   "source": [
    "import pandas as pd\n",
    "import numpy as np"
   ]
  },
  {
   "cell_type": "markdown",
   "metadata": {},
   "source": [
    "# Simulation"
   ]
  },
  {
   "cell_type": "code",
   "execution_count": 3,
   "metadata": {},
   "outputs": [
    {
     "name": "stdout",
     "output_type": "stream",
     "text": [
      "5 key features\n"
     ]
    }
   ],
   "source": [
    "# Set random seed for reproducibility\n",
    "np.random.seed(42)\n",
    "\n",
    "n_rows = 10000\n",
    "n_cols = 20\n",
    "\n",
    "print(f\"{int(n_cols/4)} key features\")"
   ]
  },
  {
   "cell_type": "code",
   "execution_count": 4,
   "metadata": {},
   "outputs": [],
   "source": [
    "from generate_simulation_data import generate_simulation_data\n",
    "df = generate_simulation_data(num_rows=n_rows, num_numeric_columns=n_cols)"
   ]
  },
  {
   "cell_type": "code",
   "execution_count": 5,
   "metadata": {},
   "outputs": [
    {
     "data": {
      "text/plain": [
       "0    9000\n",
       "1    1000\n",
       "Name: Y, dtype: int64"
      ]
     },
     "execution_count": 5,
     "metadata": {},
     "output_type": "execute_result"
    }
   ],
   "source": [
    "df['Y'].value_counts()"
   ]
  },
  {
   "cell_type": "code",
   "execution_count": 6,
   "metadata": {},
   "outputs": [],
   "source": [
    "from sklearn.model_selection import train_test_split\n",
    "from sklearn.metrics import accuracy_score\n",
    "from sklearn.metrics import roc_auc_score\n",
    "\n",
    "# Splitting data into features (X) and target (Y)\n",
    "X = df.drop(columns=['Y'])\n",
    "Y = df['Y']\n",
    "\n",
    "# Splitting data into train and test sets\n",
    "X_train, X_test, Y_train, Y_test = train_test_split(X, Y, test_size=0.2, random_state=42)"
   ]
  },
  {
   "cell_type": "code",
   "execution_count": 7,
   "metadata": {},
   "outputs": [
    {
     "name": "stdout",
     "output_type": "stream",
     "text": [
      "Accuracy: 0.746\n",
      "Logistic Regression AUC Score: 0.7803809173218339\n",
      "F1 Score: 0.36658354114713215\n"
     ]
    }
   ],
   "source": [
    "from sklearn.linear_model import LogisticRegression\n",
    "from sklearn.metrics import f1_score\n",
    "\n",
    "# Fitting Logistic Regression\n",
    "log_reg = LogisticRegression()\n",
    "log_reg.fit(X_train, Y_train)\n",
    "\n",
    "# Predict probabilities on the test set\n",
    "Y_pred = log_reg.predict_proba(X_test)[:, 1]\n",
    "Y_pred_binary = (Y_pred > 0.1).astype(int)  # Converting predicted probabilities to binary\n",
    "\n",
    "accuracy = accuracy_score(Y_test, Y_pred_binary)\n",
    "print(\"Accuracy:\", accuracy)\n",
    "\n",
    "# Calculate AUC score\n",
    "auc_score_log_reg = roc_auc_score(Y_test, Y_pred)\n",
    "print(\"Logistic Regression AUC Score:\", auc_score_log_reg)\n",
    "\n",
    "# Calculate F1 score\n",
    "f1 = f1_score(Y_pred_binary, Y_test)\n",
    "print(\"F1 Score:\", f1)"
   ]
  },
  {
   "cell_type": "code",
   "execution_count": 8,
   "metadata": {},
   "outputs": [
    {
     "name": "stdout",
     "output_type": "stream",
     "text": [
      "Accuracy: 0.552\n",
      "AUC Score: 0.7824815428349388\n",
      "F1 Score: 0.25208681135225375\n",
      "Selected 1 Features: Index(['X1'], dtype='object')\n"
     ]
    }
   ],
   "source": [
    "from sklearn.linear_model import Lasso\n",
    "from sklearn.model_selection import train_test_split\n",
    "from sklearn.metrics import accuracy_score\n",
    "from sklearn.metrics import roc_auc_score\n",
    "\n",
    "# Fitting Lasso regression\n",
    "lasso = Lasso(alpha=0.05)  # You can adjust the regularization strength (alpha) as needed\n",
    "lasso.fit(X_train, Y_train)\n",
    "\n",
    "# Evaluating performance on the test set\n",
    "Y_pred = lasso.predict(X_test)\n",
    "Y_pred_binary = (Y_pred > 0.1).astype(int)  # Converting predicted probabilities to binary\n",
    "\n",
    "accuracy = accuracy_score(Y_test, Y_pred_binary)\n",
    "print(\"Accuracy:\", accuracy)\n",
    "\n",
    "# Calculate AUC score\n",
    "auc_score = roc_auc_score(Y_test, Y_pred)\n",
    "print(\"AUC Score:\", auc_score)\n",
    "\n",
    "# Calculate F1 score\n",
    "f1 = f1_score(Y_pred_binary, Y_test)\n",
    "print(\"F1 Score:\", f1)\n",
    "\n",
    "# Getting the list of selected features\n",
    "selected_features = X.columns[lasso.coef_ != 0]\n",
    "print(f\"Selected {len(selected_features)} Features:\", selected_features)"
   ]
  },
  {
   "cell_type": "code",
   "execution_count": 11,
   "metadata": {},
   "outputs": [
    {
     "name": "stdout",
     "output_type": "stream",
     "text": [
      "Accuracy: 0.56\n",
      "AUC Score: 0.7830395671367512\n",
      "F1 Score: 0.2554991539763113\n",
      "Selected 24 Features:\n",
      "Index(['X1', 'X2', 'X3', 'X5', 'X10', 'X17', 'X20', 'X11_correlated_2',\n",
      "       'X12_correlated_2', 'X12_correlated_4', 'X18_correlated_4',\n",
      "       'X19_correlated_1', 'X19_correlated_3', 'X19_correlated_4',\n",
      "       'X3_correlated_1', 'X3_correlated_2', 'X15_correlated_2',\n",
      "       'X8_correlated_1', 'X8_correlated_3', 'X8_correlated_4',\n",
      "       'X13_correlated_1', 'X13_correlated_2', 'X13_correlated_4',\n",
      "       'X14_correlated_1'],\n",
      "      dtype='object')\n",
      "4 features successfully captured\n"
     ]
    }
   ],
   "source": [
    "from sklearn.linear_model import ElasticNetCV\n",
    "\n",
    "# Fit Elastic Net model with cross-validation to select features\n",
    "enet = ElasticNetCV(cv=10, random_state=42, l1_ratio=0.99)\n",
    "enet.fit(X_train, Y_train)\n",
    "\n",
    "# Predict on the test set\n",
    "Y_pred = enet.predict(X_test)\n",
    "Y_pred_binary = (Y_pred > 0.1).astype(int)  # Converting predicted probabilities to binary\n",
    "\n",
    "accuracy = accuracy_score(Y_test, Y_pred_binary)\n",
    "print(\"Accuracy:\", accuracy)\n",
    "\n",
    "# Calculate AUC score\n",
    "auc_score = roc_auc_score(Y_test, Y_pred)\n",
    "print(\"AUC Score:\", auc_score)\n",
    "\n",
    "# Calculate F1 score\n",
    "f1 = f1_score(Y_pred_binary, Y_test)\n",
    "print(\"F1 Score:\", f1)\n",
    "\n",
    "# Get selected features\n",
    "selected_features = X.columns[enet.coef_ != 0]\n",
    "print(f\"Selected {len(selected_features)} Features:\")\n",
    "print(selected_features)\n",
    "select_features_simplified = list(set([f.split(\"_\")[0] for f in list(selected_features)]))\n",
    "successful_selections = [f for f in select_features_simplified if int(f.split(\"X\")[-1]) <= int(n_cols/4)]\n",
    "print(f\"{len(successful_selections)} features successfully captured\")"
   ]
  },
  {
   "cell_type": "code",
   "execution_count": 10,
   "metadata": {},
   "outputs": [
    {
     "name": "stdout",
     "output_type": "stream",
     "text": [
      "Random Forest Accuracy: 0.9225\n",
      "Random Forest AUC Score: 0.8151040525419322\n",
      "F1 Score: 0.4918032786885246\n",
      "Top 5 Features Selected by Random Forest: Index(['X1', 'X3', 'X5', 'X4', 'X20'], dtype='object')\n"
     ]
    }
   ],
   "source": [
    "from sklearn.ensemble import RandomForestClassifier\n",
    "\n",
    "# Fitting Random Forest\n",
    "random_forest = RandomForestClassifier(n_estimators=int(n_cols/4), random_state=42)\n",
    "random_forest.fit(X_train, Y_train)\n",
    "\n",
    "# Predictions on the test set\n",
    "Y_pred_binary = random_forest.predict(X_test)\n",
    "Y_pred = random_forest.predict_proba(X_test)[:, 1]\n",
    "\n",
    "# Calculate accuracy\n",
    "accuracy_rf = accuracy_score(Y_test, Y_pred_binary)\n",
    "print(\"Random Forest Accuracy:\", accuracy_rf)\n",
    "\n",
    "# Calculate AUC score\n",
    "auc_score_rf = roc_auc_score(Y_test, Y_pred)\n",
    "print(\"Random Forest AUC Score:\", auc_score_rf)\n",
    "\n",
    "# Calculate F1 score\n",
    "f1 = f1_score(Y_pred_binary, Y_test)\n",
    "print(\"F1 Score:\", f1)\n",
    "\n",
    "# Get feature importances\n",
    "feature_importances = random_forest.feature_importances_\n",
    "\n",
    "# Sort feature importances in descending order\n",
    "sorted_indices = np.argsort(feature_importances)[::-1]\n",
    "\n",
    "# Get the top features\n",
    "top_features = X.columns[sorted_indices][:int(n_cols/4)]\n",
    "print(f\"Top {len(top_features)} Features Selected by Random Forest:\", top_features)"
   ]
  },
  {
   "cell_type": "code",
   "execution_count": 13,
   "metadata": {},
   "outputs": [
    {
     "name": "stdout",
     "output_type": "stream",
     "text": [
      "XGBoost Accuracy: 0.9435\n",
      "XGBoost AUC score: 0.9282982596069288\n",
      "F1 Score: 0.6366559485530547\n",
      "Selected Features: Index(['X1', 'X2', 'X3', 'X4', 'X5', 'X6', 'X7', 'X8', 'X9', 'X10', 'X11',\n",
      "       'X12', 'X13', 'X14', 'X15', 'X16', 'X17', 'X18', 'X19', 'X20',\n",
      "       'X11_correlated_1', 'X11_correlated_2', 'X11_correlated_3',\n",
      "       'X11_correlated_4', 'X12_correlated_1', 'X12_correlated_2',\n",
      "       'X12_correlated_3', 'X12_correlated_4', 'X18_correlated_1',\n",
      "       'X18_correlated_2', 'X18_correlated_3', 'X18_correlated_4',\n",
      "       'X19_correlated_1', 'X19_correlated_2', 'X19_correlated_3',\n",
      "       'X19_correlated_4', 'X6_correlated_1', 'X6_correlated_2',\n",
      "       'X6_correlated_3', 'X6_correlated_4', 'X3_correlated_1',\n",
      "       'X3_correlated_2', 'X3_correlated_3', 'X3_correlated_4',\n",
      "       'X15_correlated_1', 'X15_correlated_2', 'X15_correlated_3',\n",
      "       'X15_correlated_4', 'X8_correlated_1', 'X8_correlated_2',\n",
      "       'X8_correlated_3', 'X8_correlated_4', 'X13_correlated_1',\n",
      "       'X13_correlated_2', 'X13_correlated_3', 'X13_correlated_4',\n",
      "       'X14_correlated_1', 'X14_correlated_2', 'X14_correlated_3',\n",
      "       'X14_correlated_4'],\n",
      "      dtype='object')\n"
     ]
    }
   ],
   "source": [
    "import xgboost as xgb\n",
    "\n",
    "# Train XGBoost classifier\n",
    "model = xgb.XGBClassifier()\n",
    "model.fit(X_train, Y_train)\n",
    "\n",
    "# Predictions on the test set\n",
    "Y_pred_binary = model.predict(X_test)\n",
    "Y_pred = model.predict_proba(X_test)[:, 1]\n",
    "\n",
    "# Calculate accuracy\n",
    "accuracy = accuracy_score(Y_test, Y_pred_binary)\n",
    "print(\"XGBoost Accuracy:\", accuracy)\n",
    "\n",
    "# Calculate AUC score\n",
    "auc_score = roc_auc_score(Y_test, Y_pred)\n",
    "print(\"XGBoost AUC score:\", auc_score)\n",
    "\n",
    "# Calculate F1 score\n",
    "f1 = f1_score(Y_pred_binary, Y_test)\n",
    "print(\"F1 Score:\", f1)\n",
    "\n",
    "# Get selected features\n",
    "selected_features = X.columns[model.feature_importances_ != 0]\n",
    "print(\"Selected Features:\", selected_features)"
   ]
  },
  {
   "cell_type": "markdown",
   "metadata": {},
   "source": [
    "# Real data"
   ]
  },
  {
   "cell_type": "code",
   "execution_count": 17,
   "metadata": {},
   "outputs": [
    {
     "data": {
      "text/html": [
       "<div>\n",
       "<style scoped>\n",
       "    .dataframe tbody tr th:only-of-type {\n",
       "        vertical-align: middle;\n",
       "    }\n",
       "\n",
       "    .dataframe tbody tr th {\n",
       "        vertical-align: top;\n",
       "    }\n",
       "\n",
       "    .dataframe thead th {\n",
       "        text-align: right;\n",
       "    }\n",
       "</style>\n",
       "<table border=\"1\" class=\"dataframe\">\n",
       "  <thead>\n",
       "    <tr style=\"text-align: right;\">\n",
       "      <th></th>\n",
       "      <th>collection_id</th>\n",
       "      <th>abcd_betnet02_id</th>\n",
       "      <th>dataset_id</th>\n",
       "      <th>subjectkey</th>\n",
       "      <th>src_subject_id</th>\n",
       "      <th>interview_date</th>\n",
       "      <th>interview_age</th>\n",
       "      <th>sex</th>\n",
       "      <th>eventname</th>\n",
       "      <th>rsfmri_c_ngd_visitid</th>\n",
       "      <th>...</th>\n",
       "      <th>rsfmri_c_ngd_vs_ngd_n</th>\n",
       "      <th>rsfmri_c_ngd_vs_ngd_rspltp</th>\n",
       "      <th>rsfmri_c_ngd_vs_ngd_smh</th>\n",
       "      <th>rsfmri_c_ngd_vs_ngd_smm</th>\n",
       "      <th>rsfmri_c_ngd_vs_ngd_sa</th>\n",
       "      <th>rsfmri_c_ngd_vs_ngd_vta</th>\n",
       "      <th>rsfmri_c_ngd_vs_ngd_vs</th>\n",
       "      <th>collection_title</th>\n",
       "      <th>cbcl_scr_07_ocd_t</th>\n",
       "      <th>outcome</th>\n",
       "    </tr>\n",
       "  </thead>\n",
       "  <tbody>\n",
       "    <tr>\n",
       "      <th>0</th>\n",
       "      <td>2573</td>\n",
       "      <td>119287</td>\n",
       "      <td>34304</td>\n",
       "      <td>NDAR_INVXYLTMBZ9</td>\n",
       "      <td>NDAR_INVXYLTMBZ9</td>\n",
       "      <td>12/20/2017</td>\n",
       "      <td>127</td>\n",
       "      <td>F</td>\n",
       "      <td>baseline_year_1_arm_1</td>\n",
       "      <td>S090_INVXYLTMBZ9_20171227</td>\n",
       "      <td>...</td>\n",
       "      <td>-0.137765</td>\n",
       "      <td>0.022117</td>\n",
       "      <td>-0.006578</td>\n",
       "      <td>0.082179</td>\n",
       "      <td>-0.278462</td>\n",
       "      <td>-0.195811</td>\n",
       "      <td>0.478831</td>\n",
       "      <td>Adolescent Brain Cognitive Development Study (...</td>\n",
       "      <td>51.0</td>\n",
       "      <td>0</td>\n",
       "    </tr>\n",
       "    <tr>\n",
       "      <th>1</th>\n",
       "      <td>2573</td>\n",
       "      <td>119287</td>\n",
       "      <td>34304</td>\n",
       "      <td>NDAR_INVXYLTMBZ9</td>\n",
       "      <td>NDAR_INVXYLTMBZ9</td>\n",
       "      <td>12/20/2017</td>\n",
       "      <td>127</td>\n",
       "      <td>F</td>\n",
       "      <td>baseline_year_1_arm_1</td>\n",
       "      <td>S090_INVXYLTMBZ9_20171227</td>\n",
       "      <td>...</td>\n",
       "      <td>-0.137765</td>\n",
       "      <td>0.022117</td>\n",
       "      <td>-0.006578</td>\n",
       "      <td>0.082179</td>\n",
       "      <td>-0.278462</td>\n",
       "      <td>-0.195811</td>\n",
       "      <td>0.478831</td>\n",
       "      <td>Adolescent Brain Cognitive Development Study (...</td>\n",
       "      <td>50.0</td>\n",
       "      <td>0</td>\n",
       "    </tr>\n",
       "    <tr>\n",
       "      <th>2</th>\n",
       "      <td>2573</td>\n",
       "      <td>119287</td>\n",
       "      <td>34304</td>\n",
       "      <td>NDAR_INVXYLTMBZ9</td>\n",
       "      <td>NDAR_INVXYLTMBZ9</td>\n",
       "      <td>12/20/2017</td>\n",
       "      <td>127</td>\n",
       "      <td>F</td>\n",
       "      <td>baseline_year_1_arm_1</td>\n",
       "      <td>S090_INVXYLTMBZ9_20171227</td>\n",
       "      <td>...</td>\n",
       "      <td>-0.137765</td>\n",
       "      <td>0.022117</td>\n",
       "      <td>-0.006578</td>\n",
       "      <td>0.082179</td>\n",
       "      <td>-0.278462</td>\n",
       "      <td>-0.195811</td>\n",
       "      <td>0.478831</td>\n",
       "      <td>Adolescent Brain Cognitive Development Study (...</td>\n",
       "      <td>50.0</td>\n",
       "      <td>0</td>\n",
       "    </tr>\n",
       "    <tr>\n",
       "      <th>3</th>\n",
       "      <td>2573</td>\n",
       "      <td>119747</td>\n",
       "      <td>34304</td>\n",
       "      <td>NDAR_INV03CV8RDT</td>\n",
       "      <td>NDAR_INV03CV8RDT</td>\n",
       "      <td>08/16/2017</td>\n",
       "      <td>128</td>\n",
       "      <td>M</td>\n",
       "      <td>baseline_year_1_arm_1</td>\n",
       "      <td>S065_INV03CV8RDT_20170816</td>\n",
       "      <td>...</td>\n",
       "      <td>-0.050205</td>\n",
       "      <td>0.055756</td>\n",
       "      <td>-0.071855</td>\n",
       "      <td>-0.082996</td>\n",
       "      <td>0.033737</td>\n",
       "      <td>-0.083230</td>\n",
       "      <td>0.373939</td>\n",
       "      <td>Adolescent Brain Cognitive Development Study (...</td>\n",
       "      <td>55.0</td>\n",
       "      <td>0</td>\n",
       "    </tr>\n",
       "    <tr>\n",
       "      <th>4</th>\n",
       "      <td>2573</td>\n",
       "      <td>119747</td>\n",
       "      <td>34304</td>\n",
       "      <td>NDAR_INV03CV8RDT</td>\n",
       "      <td>NDAR_INV03CV8RDT</td>\n",
       "      <td>08/16/2017</td>\n",
       "      <td>128</td>\n",
       "      <td>M</td>\n",
       "      <td>baseline_year_1_arm_1</td>\n",
       "      <td>S065_INV03CV8RDT_20170816</td>\n",
       "      <td>...</td>\n",
       "      <td>-0.050205</td>\n",
       "      <td>0.055756</td>\n",
       "      <td>-0.071855</td>\n",
       "      <td>-0.082996</td>\n",
       "      <td>0.033737</td>\n",
       "      <td>-0.083230</td>\n",
       "      <td>0.373939</td>\n",
       "      <td>Adolescent Brain Cognitive Development Study (...</td>\n",
       "      <td>60.0</td>\n",
       "      <td>0</td>\n",
       "    </tr>\n",
       "  </tbody>\n",
       "</table>\n",
       "<p>5 rows × 194 columns</p>\n",
       "</div>"
      ],
      "text/plain": [
       "   collection_id  abcd_betnet02_id  dataset_id        subjectkey  \\\n",
       "0           2573            119287       34304  NDAR_INVXYLTMBZ9   \n",
       "1           2573            119287       34304  NDAR_INVXYLTMBZ9   \n",
       "2           2573            119287       34304  NDAR_INVXYLTMBZ9   \n",
       "3           2573            119747       34304  NDAR_INV03CV8RDT   \n",
       "4           2573            119747       34304  NDAR_INV03CV8RDT   \n",
       "\n",
       "     src_subject_id interview_date  interview_age sex              eventname  \\\n",
       "0  NDAR_INVXYLTMBZ9     12/20/2017            127   F  baseline_year_1_arm_1   \n",
       "1  NDAR_INVXYLTMBZ9     12/20/2017            127   F  baseline_year_1_arm_1   \n",
       "2  NDAR_INVXYLTMBZ9     12/20/2017            127   F  baseline_year_1_arm_1   \n",
       "3  NDAR_INV03CV8RDT     08/16/2017            128   M  baseline_year_1_arm_1   \n",
       "4  NDAR_INV03CV8RDT     08/16/2017            128   M  baseline_year_1_arm_1   \n",
       "\n",
       "        rsfmri_c_ngd_visitid  ...  rsfmri_c_ngd_vs_ngd_n  \\\n",
       "0  S090_INVXYLTMBZ9_20171227  ...              -0.137765   \n",
       "1  S090_INVXYLTMBZ9_20171227  ...              -0.137765   \n",
       "2  S090_INVXYLTMBZ9_20171227  ...              -0.137765   \n",
       "3  S065_INV03CV8RDT_20170816  ...              -0.050205   \n",
       "4  S065_INV03CV8RDT_20170816  ...              -0.050205   \n",
       "\n",
       "   rsfmri_c_ngd_vs_ngd_rspltp  rsfmri_c_ngd_vs_ngd_smh  \\\n",
       "0                    0.022117                -0.006578   \n",
       "1                    0.022117                -0.006578   \n",
       "2                    0.022117                -0.006578   \n",
       "3                    0.055756                -0.071855   \n",
       "4                    0.055756                -0.071855   \n",
       "\n",
       "   rsfmri_c_ngd_vs_ngd_smm  rsfmri_c_ngd_vs_ngd_sa  rsfmri_c_ngd_vs_ngd_vta  \\\n",
       "0                 0.082179               -0.278462                -0.195811   \n",
       "1                 0.082179               -0.278462                -0.195811   \n",
       "2                 0.082179               -0.278462                -0.195811   \n",
       "3                -0.082996                0.033737                -0.083230   \n",
       "4                -0.082996                0.033737                -0.083230   \n",
       "\n",
       "   rsfmri_c_ngd_vs_ngd_vs                                   collection_title  \\\n",
       "0                0.478831  Adolescent Brain Cognitive Development Study (...   \n",
       "1                0.478831  Adolescent Brain Cognitive Development Study (...   \n",
       "2                0.478831  Adolescent Brain Cognitive Development Study (...   \n",
       "3                0.373939  Adolescent Brain Cognitive Development Study (...   \n",
       "4                0.373939  Adolescent Brain Cognitive Development Study (...   \n",
       "\n",
       "   cbcl_scr_07_ocd_t  outcome  \n",
       "0               51.0        0  \n",
       "1               50.0        0  \n",
       "2               50.0        0  \n",
       "3               55.0        0  \n",
       "4               60.0        0  \n",
       "\n",
       "[5 rows x 194 columns]"
      ]
     },
     "execution_count": 17,
     "metadata": {},
     "output_type": "execute_result"
    }
   ],
   "source": [
    "from generate_real_data import generate_real_data\n",
    "df = generate_real_data(cutoff=65)\n",
    "df.head()"
   ]
  },
  {
   "cell_type": "code",
   "execution_count": 6,
   "metadata": {},
   "outputs": [
    {
     "data": {
      "image/png": "[encoded data removed]",
      "text/plain": [
       "<Figure size 432x288 with 1 Axes>"
      ]
     },
     "metadata": {
      "needs_background": "light"
     },
     "output_type": "display_data"
    }
   ],
   "source": [
    "# Plot histogram of the 'value' column\n",
    "import matplotlib.pyplot as plt\n",
    "\n",
    "plt.hist(df['cbcl_scr_07_ocd_t'], bins=20, color='blue', edgecolor='black')\n",
    "\n",
    "# Add labels and title\n",
    "plt.xlabel('Value')\n",
    "plt.ylabel('Frequency')\n",
    "plt.title('Histogram of Values')\n",
    "\n",
    "# Show plot\n",
    "plt.show()"
   ]
  },
  {
   "cell_type": "code",
   "execution_count": 24,
   "metadata": {},
   "outputs": [
    {
     "data": {
      "text/plain": [
       "0    126147\n",
       "1      8454\n",
       "Name: outcome, dtype: int64"
      ]
     },
     "execution_count": 24,
     "metadata": {},
     "output_type": "execute_result"
    }
   ],
   "source": [
    "df['outcome'].value_counts()"
   ]
  },
  {
   "cell_type": "code",
   "execution_count": 19,
   "metadata": {},
   "outputs": [],
   "source": [
    "from sklearn.model_selection import train_test_split\n",
    "from sklearn.metrics import accuracy_score\n",
    "from sklearn.metrics import roc_auc_score\n",
    "\n",
    "# Splitting data into features (X) and target (Y)\n",
    "predictive_cols = [col for col in df.columns if col.startswith('rsfmri') and 'visitid' not in col]\n",
    "for col in predictive_cols:\n",
    "        if df[col].dtype != 'object':  # Exclude string/object columns\n",
    "            mean_col = df[col].mean()\n",
    "            df[col] = df[col].fillna(mean_col)\n",
    "X = df[predictive_cols]\n",
    "Y = df['outcome']\n",
    "\n",
    "# Splitting data into train and test sets\n",
    "X_train, X_test, Y_train, Y_test = train_test_split(X, Y, test_size=0.2, random_state=42)"
   ]
  },
  {
   "cell_type": "code",
   "execution_count": 32,
   "metadata": {},
   "outputs": [
    {
     "name": "stdout",
     "output_type": "stream",
     "text": [
      "Accuracy: 0.9023810408231492\n",
      "Logistic Regression AUC Score: 0.516097143720145\n",
      "F1 Score: 0.06742370475514549\n"
     ]
    }
   ],
   "source": [
    "from sklearn.linear_model import LogisticRegression\n",
    "from sklearn.metrics import f1_score\n",
    "\n",
    "# Fitting Logistic Regression\n",
    "log_reg = LogisticRegression()\n",
    "log_reg.fit(X_train, Y_train)\n",
    "\n",
    "# Predict probabilities on the test set\n",
    "Y_pred = log_reg.predict_proba(X_test)[:, 1]\n",
    "Y_pred_binary = (Y_pred > 0.1).astype(int)  # Converting predicted probabilities to binary\n",
    "\n",
    "accuracy = accuracy_score(Y_test, Y_pred_binary)\n",
    "print(\"Accuracy:\", accuracy)\n",
    "\n",
    "# Calculate AUC score\n",
    "auc_score_log_reg = roc_auc_score(Y_test, Y_pred)\n",
    "print(\"Logistic Regression AUC Score:\", auc_score_log_reg)\n",
    "\n",
    "# Calculate F1 score\n",
    "f1 = f1_score(Y_pred_binary, Y_test)\n",
    "print(\"F1 Score:\", f1)"
   ]
  },
  {
   "cell_type": "code",
   "execution_count": 29,
   "metadata": {},
   "outputs": [
    {
     "name": "stdout",
     "output_type": "stream",
     "text": [
      "Random Forest Accuracy: 0.9547193640652278\n",
      "Random Forest AUC Score: 0.9635619554375431\n",
      "F1 Score: 0.6004588659455916\n",
      "Top 181 Features Selected by Random Forest: Index(['rsfmri_c_ngd_meanrot', 'rsfmri_c_ngd_maxrot', 'rsfmri_c_ngd_stnvols',\n",
      "       'rsfmri_c_ngd_maxmotion', 'rsfmri_c_ngd_maxtrans',\n",
      "       'rsfmri_c_ngd_meantrans', 'rsfmri_c_ngd_meanmotion',\n",
      "       'rsfmri_c_ngd_stcontignvols', 'rsfmri_c_ngd_rspltp_ngd_rspltp',\n",
      "       'rsfmri_c_ngd_ntpoints',\n",
      "       ...\n",
      "       'rsfmri_c_ngd_sa_ngd_ca', 'rsfmri_c_ngd_vta_ngd_dt',\n",
      "       'rsfmri_c_ngd_dla_ngd_dt', 'rsfmri_c_ngd_smm_ngd_rspltp',\n",
      "       'rsfmri_c_ngd_fo_ngd_ad', 'rsfmri_c_ngd_vs_ngd_vta',\n",
      "       'rsfmri_c_ngd_smm_ngd_dt', 'rsfmri_c_ngd_numtrs', 'rsfmri_c_ngd_nvols',\n",
      "       'rsfmri_c_ngd_tr'],\n",
      "      dtype='object', length=181)\n"
     ]
    }
   ],
   "source": [
    "from sklearn.ensemble import RandomForestClassifier\n",
    "\n",
    "# Fitting Random Forest\n",
    "random_forest = RandomForestClassifier(random_state=42)\n",
    "random_forest.fit(X_train, Y_train)\n",
    "\n",
    "# Predictions on the test set\n",
    "Y_pred_binary = random_forest.predict(X_test)\n",
    "Y_pred = random_forest.predict_proba(X_test)[:, 1]\n",
    "\n",
    "# Calculate accuracy\n",
    "accuracy_rf = accuracy_score(Y_test, Y_pred_binary)\n",
    "print(\"Random Forest Accuracy:\", accuracy_rf)\n",
    "\n",
    "# Calculate AUC score\n",
    "auc_score_rf = roc_auc_score(Y_test, Y_pred)\n",
    "print(\"Random Forest AUC Score:\", auc_score_rf)\n",
    "\n",
    "# Calculate F1 score\n",
    "f1 = f1_score(Y_pred_binary, Y_test)\n",
    "print(\"F1 Score:\", f1)\n",
    "\n",
    "# Get feature importances\n",
    "feature_importances = random_forest.feature_importances_\n",
    "\n",
    "# Sort feature importances in descending order\n",
    "sorted_indices = np.argsort(feature_importances)[::-1]\n",
    "\n",
    "# Get the top features\n",
    "top_features = X.columns[sorted_indices]\n",
    "print(f\"Top {len(top_features)} Features Selected by Random Forest:\", top_features)"
   ]
  },
  {
   "cell_type": "code",
   "execution_count": 31,
   "metadata": {},
   "outputs": [
    {
     "name": "stdout",
     "output_type": "stream",
     "text": [
      "Accuracy: 0.9370751457969615\n",
      "AUC Score: 0.5149643831413364\n",
      "F1 Score: 0.0\n",
      "Selected 4 Features:\n",
      "Index(['rsfmri_c_ngd_nvols', 'rsfmri_c_ngd_stnvols',\n",
      "       'rsfmri_c_ngd_stcontignvols', 'rsfmri_c_ngd_ntpoints'],\n",
      "      dtype='object')\n"
     ]
    }
   ],
   "source": [
    "from sklearn.linear_model import ElasticNetCV\n",
    "\n",
    "# Fit Elastic Net model with cross-validation to select features\n",
    "enet = ElasticNetCV(cv=10, random_state=42, l1_ratio=0.001)\n",
    "enet.fit(X_train, Y_train)\n",
    "\n",
    "# Predict on the test set\n",
    "Y_pred = enet.predict(X_test)\n",
    "Y_pred_binary = (Y_pred > 0.1).astype(int)  # Converting predicted probabilities to binary\n",
    "\n",
    "accuracy = accuracy_score(Y_test, Y_pred_binary)\n",
    "print(\"Accuracy:\", accuracy)\n",
    "\n",
    "# Calculate AUC score\n",
    "auc_score = roc_auc_score(Y_test, Y_pred)\n",
    "print(\"AUC Score:\", auc_score)\n",
    "\n",
    "# Calculate F1 score\n",
    "f1 = f1_score(Y_pred_binary, Y_test)\n",
    "print(\"F1 Score:\", f1)\n",
    "\n",
    "# Get selected features\n",
    "selected_features = X.columns[enet.coef_ != 0]\n",
    "print(f\"Selected {len(selected_features)} Features:\")\n",
    "print(selected_features)"
   ]
  },
  {
   "cell_type": "code",
   "execution_count": 30,
   "metadata": {},
   "outputs": [
    {
     "name": "stdout",
     "output_type": "stream",
     "text": [
      "XGBoost Accuracy: 0.9534564094944468\n",
      "XGBoost AUC score: 0.9615536618179891\n",
      "F1 Score: 0.528770214366303\n",
      "Selected Features: Index(['rsfmri_c_ngd_tr', 'rsfmri_c_ngd_numtrs', 'rsfmri_c_ngd_stnvols',\n",
      "       'rsfmri_c_ngd_stcontignvols', 'rsfmri_c_ngd_ntpoints',\n",
      "       'rsfmri_c_ngd_meanmotion', 'rsfmri_c_ngd_maxmotion',\n",
      "       'rsfmri_c_ngd_meantrans', 'rsfmri_c_ngd_maxtrans',\n",
      "       'rsfmri_c_ngd_meanrot',\n",
      "       ...\n",
      "       'rsfmri_c_ngd_smm_ngd_smm', 'rsfmri_c_ngd_smm_ngd_sa',\n",
      "       'rsfmri_c_ngd_smm_ngd_vta', 'rsfmri_c_ngd_smm_ngd_vs',\n",
      "       'rsfmri_c_ngd_sa_ngd_sa', 'rsfmri_c_ngd_sa_ngd_vta',\n",
      "       'rsfmri_c_ngd_sa_ngd_vs', 'rsfmri_c_ngd_vta_ngd_vta',\n",
      "       'rsfmri_c_ngd_vta_ngd_vs', 'rsfmri_c_ngd_vs_ngd_vs'],\n",
      "      dtype='object', length=102)\n"
     ]
    }
   ],
   "source": [
    "import xgboost as xgb\n",
    "import matplotlib.pyplot as plt\n",
    "\n",
    "# Train XGBoost classifier\n",
    "model = xgb.XGBClassifier()\n",
    "model.fit(X_train, Y_train)\n",
    "\n",
    "# Predictions on the test set\n",
    "Y_pred_binary = model.predict(X_test)\n",
    "Y_pred = model.predict_proba(X_test)[:, 1]\n",
    "\n",
    "# Calculate accuracy\n",
    "accuracy = accuracy_score(Y_test, Y_pred_binary)\n",
    "print(\"XGBoost Accuracy:\", accuracy)\n",
    "\n",
    "# Calculate AUC score\n",
    "auc_score = roc_auc_score(Y_test, Y_pred)\n",
    "print(\"XGBoost AUC score:\", auc_score)\n",
    "\n",
    "# Calculate F1 score\n",
    "f1 = f1_score(Y_pred_binary, Y_test)\n",
    "print(\"F1 Score:\", f1)\n",
    "\n",
    "# Get selected features\n",
    "selected_features = X.columns[model.feature_importances_ != 0]\n",
    "print(\"Selected Features:\", selected_features)"
   ]
  },
  {
   "cell_type": "code",
   "execution_count": 45,
   "metadata": {},
   "outputs": [
    {
     "name": "stdout",
     "output_type": "stream",
     "text": [
      "{'rsfmri_c_ngd_ca_ngd_vta': 'Average correlation between cingulo-parietal network and ventral attention network', 'rsfmri_c_ngd_dt_ngd_sa': 'Average correlation between default network and salience network', 'rsfmri_c_ngd_n_ngd_smh': 'Average correlation between \"none\" network and sensorimotor hand network', 'rsfmri_c_ngd_dt_ngd_n': 'Average correlation between default network and \"none\" network', 'rsfmri_c_ngd_vta_ngd_vta': 'Average correlation between ventral attention network and ventral attention network'}\n"
     ]
    }
   ],
   "source": [
    "codebook = pd.read_csv(\"codebook.csv\")\n",
    "# Get feature importance scores\n",
    "feature_importance = model.feature_importances_\n",
    "\n",
    "# Create a DataFrame to store feature names and importance scores\n",
    "feature_importance_df = pd.DataFrame({'Feature': X.columns, 'Importance': feature_importance})\n",
    "\n",
    "# Sort features by importance\n",
    "feature_importance_df = feature_importance_df.sort_values(by='Importance', ascending=False)[:5]\n",
    "feature_importance_df = pd.merge(feature_importance_df, codebook, how='left', left_on='Feature', right_on='Variable_name')\n",
    "print(dict(zip(feature_importance_df['Feature'].tolist(), feature_importance_df['Explain'].tolist())))"
   ]
  },
  {
   "cell_type": "code",
   "execution_count": 51,
   "metadata": {},
   "outputs": [
    {
     "data": {
      "image/png": "[encoded data removed]",
      "text/plain": [
       "<Figure size 864x576 with 1 Axes>"
      ]
     },
     "metadata": {
      "needs_background": "light"
     },
     "output_type": "display_data"
    }
   ],
   "source": [
    "# Set custom font size\n",
    "plt.rcParams.update({'font.size': 16})\n",
    "\n",
    "# Create a figure and axis object\n",
    "fig, ax = plt.subplots(figsize=(12, 8))\n",
    "\n",
    "# Plot horizontal bar chart\n",
    "ax.barh(feature_importance_df['Feature'], feature_importance_df['Importance'], color='skyblue')\n",
    "\n",
    "# Set axis labels\n",
    "ax.set_xlabel('Importance Score')\n",
    "ax.set_ylabel('Feature')\n",
    "\n",
    "\n",
    "# Invert y-axis for better readability\n",
    "ax.invert_yaxis()\n",
    "\n",
    "# Save the plot as a PNG file\n",
    "plt.savefig('feature_importance.png', bbox_inches='tight', dpi=500)\n",
    "\n",
    "# Show plot\n",
    "plt.show()"
   ]
  },
  {
   "cell_type": "code",
   "execution_count": null,
   "metadata": {},
   "outputs": [],
   "source": []
  }
 ],
 "metadata": {
  "kernelspec": {
   "display_name": "Python 3",
   "language": "python",
   "name": "python3"
  },
  "language_info": {
   "codemirror_mode": {
    "name": "ipython",
    "version": 3
   },
   "file_extension": ".py",
   "mimetype": "text/x-python",
   "name": "python",
   "nbconvert_exporter": "python",
   "pygments_lexer": "ipython3",
   "version": "3.7.6"
  }
 },
 "nbformat": 4,
 "nbformat_minor": 4
}
