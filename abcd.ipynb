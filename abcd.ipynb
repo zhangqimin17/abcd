{
 "cells": [
  {
   "cell_type": "code",
   "execution_count": 1,
   "metadata": {},
   "outputs": [],
   "source": [
    "import pandas as pd\n",
    "import numpy as np"
   ]
  },
  {
   "cell_type": "markdown",
   "metadata": {},
   "source": [
    "# Simulation"
   ]
  },
  {
   "cell_type": "code",
   "execution_count": 123,
   "metadata": {},
   "outputs": [],
   "source": [
    "# Set random seed for reproducibility\n",
    "np.random.seed(42)\n",
    "\n",
    "n_rows = 2000\n",
    "n_cols = 100"
   ]
  },
  {
   "cell_type": "code",
   "execution_count": 124,
   "metadata": {},
   "outputs": [],
   "source": [
    "from generate_simulation_data import generate_simulation_data\n",
    "df = generate_simulation_data(num_rows=n_rows, num_numeric_columns=n_cols)"
   ]
  },
  {
   "cell_type": "code",
   "execution_count": 125,
   "metadata": {},
   "outputs": [],
   "source": [
    "from sklearn.model_selection import train_test_split\n",
    "from sklearn.metrics import accuracy_score\n",
    "from sklearn.metrics import roc_auc_score\n",
    "\n",
    "# Splitting data into features (X) and target (Y)\n",
    "X = df.drop(columns=['Y'])\n",
    "Y = df['Y']\n",
    "\n",
    "# Splitting data into train and test sets\n",
    "X_train, X_test, Y_train, Y_test = train_test_split(X, Y, test_size=0.5, random_state=42)"
   ]
  },
  {
   "cell_type": "code",
   "execution_count": 126,
   "metadata": {},
   "outputs": [
    {
     "name": "stdout",
     "output_type": "stream",
     "text": [
      "Accuracy: 0.961\n",
      "Logistic Regression AUC Score: 0.9937919543728673\n"
     ]
    }
   ],
   "source": [
    "from sklearn.linear_model import LogisticRegression\n",
    "\n",
    "# Fitting Logistic Regression\n",
    "log_reg = LogisticRegression()\n",
    "log_reg.fit(X_train, Y_train)\n",
    "\n",
    "# Predict probabilities on the test set\n",
    "Y_pred = log_reg.predict_proba(X_test)[:, 1]\n",
    "Y_pred_binary = (Y_pred > 0.5).astype(int)  # Converting predicted probabilities to binary\n",
    "\n",
    "accuracy = accuracy_score(Y_test, Y_pred_binary)\n",
    "print(\"Accuracy:\", accuracy)\n",
    "\n",
    "# Calculate AUC score\n",
    "auc_score_log_reg = roc_auc_score(Y_test, Y_pred)\n",
    "print(\"Logistic Regression AUC Score:\", auc_score_log_reg)"
   ]
  },
  {
   "cell_type": "code",
   "execution_count": 134,
   "metadata": {},
   "outputs": [
    {
     "name": "stdout",
     "output_type": "stream",
     "text": [
      "Accuracy: 0.975\n",
      "AUC Score: 0.9983578718018553\n",
      "Selected 24 Features: Index(['X1', 'X2', 'X3', 'X4', 'X5', 'X8', 'X12', 'X15', 'X16', 'X31', 'X51',\n",
      "       'X62', 'X67', 'X70', 'X77', 'X78', 'X83', 'X90', 'X92', 'X95', 'X96',\n",
      "       'X72_correlated_2', 'X28_correlated_2', 'X55_correlated_1'],\n",
      "      dtype='object')\n"
     ]
    }
   ],
   "source": [
    "from sklearn.linear_model import Lasso\n",
    "from sklearn.model_selection import train_test_split\n",
    "from sklearn.metrics import accuracy_score\n",
    "from sklearn.metrics import roc_auc_score\n",
    "\n",
    "# Fitting Lasso regression\n",
    "lasso = Lasso(alpha=0.011)  # You can adjust the regularization strength (alpha) as needed\n",
    "lasso.fit(X_train, Y_train)\n",
    "\n",
    "# Evaluating performance on the test set\n",
    "Y_pred = lasso.predict(X_test)\n",
    "Y_pred_binary = (Y_pred > 0.5).astype(int)  # Converting predicted probabilities to binary\n",
    "\n",
    "accuracy = accuracy_score(Y_test, Y_pred_binary)\n",
    "print(\"Accuracy:\", accuracy)\n",
    "\n",
    "# Calculate AUC score\n",
    "auc_score = roc_auc_score(Y_test, Y_pred)\n",
    "print(\"AUC Score:\", auc_score)\n",
    "\n",
    "\n",
    "# Getting the list of selected features\n",
    "selected_features = X.columns[lasso.coef_ != 0]\n",
    "print(f\"Selected {len(selected_features)} Features:\", selected_features)"
   ]
  },
  {
   "cell_type": "code",
   "execution_count": 146,
   "metadata": {},
   "outputs": [
    {
     "name": "stdout",
     "output_type": "stream",
     "text": [
      "Accuracy: 0.976\n",
      "AUC Score: 0.9983218250853106\n",
      "Selected 23 Features:\n",
      "Index(['X1', 'X2', 'X3', 'X4', 'X5', 'X8', 'X12', 'X15', 'X16', 'X31', 'X51',\n",
      "       'X62', 'X67', 'X70', 'X74', 'X78', 'X83', 'X90', 'X92', 'X95',\n",
      "       'X72_correlated_2', 'X28_correlated_2', 'X55_correlated_1'],\n",
      "      dtype='object')\n",
      "9 features successfully captured\n"
     ]
    }
   ],
   "source": [
    "from sklearn.linear_model import ElasticNetCV\n",
    "\n",
    "# Fit Elastic Net model with cross-validation to select features\n",
    "enet = ElasticNetCV(cv=10, random_state=42, l1_ratio=0.15)\n",
    "enet.fit(X_train, Y_train)\n",
    "\n",
    "# Predict on the test set\n",
    "Y_pred = enet.predict(X_test)\n",
    "Y_pred_binary = (Y_pred > 0.5).astype(int)  # Converting predicted probabilities to binary\n",
    "\n",
    "accuracy = accuracy_score(Y_test, Y_pred_binary)\n",
    "print(\"Accuracy:\", accuracy)\n",
    "\n",
    "# Calculate AUC score\n",
    "auc_score = roc_auc_score(Y_test, Y_pred)\n",
    "print(\"AUC Score:\", auc_score)\n",
    "\n",
    "# Get selected features\n",
    "selected_features = X.columns[enet.coef_ != 0]\n",
    "print(f\"Selected {len(selected_features)} Features:\")\n",
    "print(selected_features)\n",
    "select_features_simplified = list(set([f.split(\"_\")[0] for f in list(selected_features)]))\n",
    "successful_selections = [f for f in select_features_simplified if int(f.split(\"X\")[-1]) <= int(n_cols/4)]\n",
    "print(f\"{len(successful_selections)} features successfully captured\")"
   ]
  },
  {
   "cell_type": "code",
   "execution_count": 143,
   "metadata": {},
   "outputs": [
    {
     "name": "stdout",
     "output_type": "stream",
     "text": [
      "Random Forest Accuracy: 0.83\n",
      "Random Forest AUC Score: 0.9192673705121838\n",
      "Top 25 Features Selected by Random Forest: Index(['X1', 'X4', 'X3', 'X41', 'X5', 'X20', 'X95', 'X28_correlated_2', 'X51',\n",
      "       'X24', 'X40', 'X87', 'X100', 'X50', 'X28_correlated_4', 'X84', 'X27',\n",
      "       'X42_correlated_1', 'X25', 'X67', 'X99', 'X10', 'X48', 'X60', 'X57'],\n",
      "      dtype='object')\n"
     ]
    }
   ],
   "source": [
    "from sklearn.ensemble import RandomForestClassifier\n",
    "\n",
    "# Fitting Random Forest\n",
    "random_forest = RandomForestClassifier(n_estimators=int(n_cols/4), random_state=42)\n",
    "random_forest.fit(X_train, Y_train)\n",
    "\n",
    "# Predictions on the test set\n",
    "Y_pred_binary = random_forest.predict(X_test)\n",
    "Y_pred = random_forest.predict_proba(X_test)[:, 1]\n",
    "\n",
    "# Calculate accuracy\n",
    "accuracy_rf = accuracy_score(Y_test, Y_pred_binary)\n",
    "print(\"Random Forest Accuracy:\", accuracy_rf)\n",
    "\n",
    "# Calculate AUC score\n",
    "auc_score_rf = roc_auc_score(Y_test, Y_pred)\n",
    "print(\"Random Forest AUC Score:\", auc_score_rf)\n",
    "\n",
    "# Get feature importances\n",
    "feature_importances = random_forest.feature_importances_\n",
    "\n",
    "# Sort feature importances in descending order\n",
    "sorted_indices = np.argsort(feature_importances)[::-1]\n",
    "\n",
    "# Get the top features\n",
    "top_features = X.columns[sorted_indices][:int(n_cols/4)]\n",
    "print(f\"Top {len(top_features)} Features Selected by Random Forest:\", top_features)"
   ]
  },
  {
   "cell_type": "code",
   "execution_count": 145,
   "metadata": {},
   "outputs": [
    {
     "name": "stdout",
     "output_type": "stream",
     "text": [
      "SVM with RFE Accuracy: 0.976\n",
      "SVM AUC Score: 0.9982016693634951\n",
      "Selected 25 Features: Index(['X1', 'X2', 'X3', 'X4', 'X5', 'X15', 'X39', 'X69', 'X74', 'X80', 'X97',\n",
      "       'X99', 'X85_correlated_1', 'X85_correlated_2', 'X13_correlated_3',\n",
      "       'X13_correlated_4', 'X56_correlated_3', 'X56_correlated_4',\n",
      "       'X14_correlated_1', 'X14_correlated_3', 'X28_correlated_2',\n",
      "       'X28_correlated_4', 'X89_correlated_1', 'X89_correlated_3',\n",
      "       'X55_correlated_1'],\n",
      "      dtype='object')\n",
      "8 features successfully captured\n"
     ]
    }
   ],
   "source": [
    "from sklearn.feature_selection import RFE\n",
    "from sklearn.svm import SVC\n",
    "from sklearn.metrics import accuracy_score\n",
    "\n",
    "# Create an SVM classifier instance\n",
    "svm_classifier = SVC(kernel='linear', probability=True)\n",
    "\n",
    "# Create the RFE object and specify the SVM classifier and the number of features to select\n",
    "rfe = RFE(estimator=svm_classifier, n_features_to_select=int(n_cols/4), step=1)\n",
    "\n",
    "# Fit RFE to the training data\n",
    "rfe.fit(X_train, Y_train)\n",
    "\n",
    "# Transform the training data to include only the selected features\n",
    "X_train_selected = rfe.transform(X_train)\n",
    "\n",
    "# Fit SVM classifier to the transformed training data\n",
    "svm_classifier.fit(X_train_selected, Y_train)\n",
    "\n",
    "# Transform the test data to include only the selected features\n",
    "X_test_selected = rfe.transform(X_test)\n",
    "\n",
    "# Predict the target variable for the test data\n",
    "Y_pred_svm = svm_classifier.predict(X_test_selected)\n",
    "Y_prob_svm = svm_classifier.predict_proba(X_test_selected)[:, 1]\n",
    "\n",
    "# Calculate accuracy\n",
    "accuracy_svm = accuracy_score(Y_test, Y_pred_svm)\n",
    "print(\"SVM with RFE Accuracy:\", accuracy_svm)\n",
    "\n",
    "# Calculate AUC score\n",
    "auc_score_svm = roc_auc_score(Y_test, Y_prob_svm)\n",
    "print(\"SVM AUC Score:\", auc_score_svm)\n",
    "\n",
    "# Get the selected features\n",
    "selected_features_indices = rfe.get_support(indices=True)\n",
    "selected_features = X_train.columns[selected_features_indices]\n",
    "print(f\"Selected {len(selected_features)} Features:\", selected_features)\n",
    "select_features_simplified = list(set([f.split(\"_\")[0] for f in list(selected_features)]))\n",
    "successful_selections = [f for f in select_features_simplified if int(f.split(\"X\")[-1]) <= int(n_cols/4)]\n",
    "print(f\"{len(successful_selections)} features successfully captured\")"
   ]
  },
  {
   "cell_type": "code",
   "execution_count": 131,
   "metadata": {},
   "outputs": [
    {
     "name": "stdout",
     "output_type": "stream",
     "text": [
      "Ensemble SVM Accuracy: 0.958\n",
      "Ensemble SVM AUC Score: 0.9934875598776014\n",
      "Selected 25 Features by Ensemble SVM\n"
     ]
    }
   ],
   "source": [
    "from sklearn.svm import SVC\n",
    "from sklearn.ensemble import BaggingClassifier\n",
    "from sklearn.metrics import roc_auc_score\n",
    "\n",
    "# Create base SVM classifier instance\n",
    "svm_base = SVC(kernel='linear', probability=True)  # Probability=True for calculating probabilities for AUC\n",
    "\n",
    "# Create ensemble SVM classifier with Bagging\n",
    "ensemble_svm = BaggingClassifier(base_estimator=svm_base, n_estimators=int(n_cols/4), random_state=42)\n",
    "\n",
    "# Fit the ensemble classifier to the training data\n",
    "ensemble_svm.fit(X_train, Y_train)\n",
    "\n",
    "# Predictions on the test set\n",
    "Y_pred_ensemble_svm = ensemble_svm.predict(X_test)\n",
    "Y_prob_ensemble_svm = ensemble_svm.predict_proba(X_test)[:, 1]\n",
    "\n",
    "# Calculate accuracy\n",
    "accuracy_ensemble_svm = accuracy_score(Y_test, Y_pred_ensemble_svm)\n",
    "print(\"Ensemble SVM Accuracy:\", accuracy_ensemble_svm)\n",
    "\n",
    "# Calculate AUC score\n",
    "auc_score_ensemble_svm = roc_auc_score(Y_test, Y_prob_ensemble_svm)\n",
    "print(\"Ensemble SVM AUC Score:\", auc_score_ensemble_svm)\n",
    "\n",
    "# Get the selected features\n",
    "selected_features = ensemble_svm.estimators_features_\n",
    "print(f\"Selected {len(selected_features)} Features by Ensemble SVM\")"
   ]
  },
  {
   "cell_type": "markdown",
   "metadata": {},
   "source": [
    "# Real data"
   ]
  },
  {
   "cell_type": "code",
   "execution_count": null,
   "metadata": {},
   "outputs": [],
   "source": [
    "df = pd.read_csv('merged_baseline_data.csv')\n",
    "outcome = pd.read_csv('abcd_cbcls01.txt', sep=\"\\t\")\n",
    "cb = pd.read_csv('codebook.csv')\n",
    "df.head()"
   ]
  }
 ],
 "metadata": {
  "kernelspec": {
   "display_name": "Python 3",
   "language": "python",
   "name": "python3"
  },
  "language_info": {
   "codemirror_mode": {
    "name": "ipython",
    "version": 3
   },
   "file_extension": ".py",
   "mimetype": "text/x-python",
   "name": "python",
   "nbconvert_exporter": "python",
   "pygments_lexer": "ipython3",
   "version": "3.7.6"
  }
 },
 "nbformat": 4,
 "nbformat_minor": 4
}
